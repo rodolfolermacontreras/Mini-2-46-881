{
 "cells": [
  {
   "cell_type": "markdown",
   "metadata": {},
   "source": [
    "#### Carnegie Mellon University - Tepper School of Business\n",
    "#### 46-881 - Programming in R and Python\n",
    "#### 22/23 - Mini 2 - Sections MO2 - Farahat\n",
    "---"
   ]
  },
  {
   "cell_type": "markdown",
   "metadata": {},
   "source": [
    "## Deliverable 2 \n",
    "**Due November 16th at 2:59 a.m. Eastern**"
   ]
  },
  {
   "cell_type": "markdown",
   "metadata": {},
   "source": [
    "Please provide your name and Andrew ID below:\n",
    "\n",
    "- Name (Last, First):\n",
    "\n",
    "- Andrew ID: \n",
    "\n",
    "---"
   ]
  },
  {
   "cell_type": "markdown",
   "metadata": {},
   "source": [
    "*This deliverable consists of **two** Problems. Both problems require you to code in Python and answer one or more questions. Save a copy of this notebook and provide your solution by inserting code or Markdown text files as appropriate.*\n",
    "\n",
    "*You will need to submit two files through Canvas: 1) a completed Jupyter notebook (extension .ipynb) with your code and answers to each question (this file); and 2) an html rendering of your completed Jupyter notebook.*"
   ]
  },
  {
   "cell_type": "markdown",
   "metadata": {},
   "source": [
    "### Problem 1 (60 points)"
   ]
  },
  {
   "cell_type": "markdown",
   "metadata": {},
   "source": [
    "The SIR model is the original and simplest (in fact, *simplistic*) model of disease spread in epidemiology. It is a *compartmental model* where each individual in a population is classified as being in exactly one of 3 states at any gien time: **S**usceptible to infection, **I**nfectious (i.e. infected and capable of infecting susceptible individuals), or **R**ecovered (or \"removed\"). The model was developed by Kermack and McKendrick in 1927. Many improved predictive models have since been developed for disease spread. In this problem you will use Python to implement and explore this model."
   ]
  },
  {
   "cell_type": "markdown",
   "metadata": {},
   "source": [
    "Let S(t), I(t), and R(t) denote, respectively, the number of individuals in a given population who are susceptible, infectious, and recovered on day t. The model utilizes two parameters: Beta and Gamma. For a population of size N, the time-dynamics of the model are as follows:\n",
    "- S(t+1) = S(t) - Beta * I(t) * S(t) / N\n",
    "- I(t+1) = I(t) + Beta * I(t) * S(t) / N - Gamma * I(t)\n",
    "- R(t+1) = R(t) + Gamma * I(t) \n",
    "\n",
    "The ratio Beta / Gamma is sometimes referred to as the R0 (R naught) of the disease."
   ]
  },
  {
   "cell_type": "markdown",
   "metadata": {},
   "source": [
    "Develop a Python model of the above SIR model and use it to answer the following questions. Assume a scenario where N = 1000, S(0) = 990, I(0) = 10, Beta = 0.10, and Gamma = 0.05."
   ]
  },
  {
   "cell_type": "markdown",
   "metadata": {},
   "source": [
    "#### Part(a)\n",
    "Suppose our healthcare system has a capacity to accommodate a maximum of 120 infectious persons. Is this capacity sufficient according to the model?"
   ]
  },
  {
   "cell_type": "markdown",
   "metadata": {},
   "source": [
    "#### Part (b)\n",
    "Now suppose that our healthcare system can currently accommodate only 120 infectious persons. However, its capacity can be increased to accommodate 180 infectious persons in 2 months. Is this current capacity and expansion plan sufficient according to the model?"
   ]
  },
  {
   "cell_type": "markdown",
   "metadata": {},
   "source": [
    "----"
   ]
  },
  {
   "cell_type": "markdown",
   "metadata": {},
   "source": [
    "### Problem 2 (40 points)"
   ]
  },
  {
   "cell_type": "markdown",
   "metadata": {},
   "source": [
    "Suppose you drive a car whose fuel efficiency is 18 miles per gallon and whose gas tank size is 16 gallons. Gas prices fluctuate according to a **uniform distribution** ranging from 3 dollars per gallon to 5 dollars per gallon. That is, prices remain average equal to 4 dollars per gallon but fluctuate each day according to this uniform distribution. Every day you drive your car for exactly 10 miles.\n",
    "\n",
    "You are contemplating two gas filling strategies:\n",
    "- *“Fill-it up” strategy*: You wait till the tank is (almost) empty then fill the entire tank;\n",
    "- *“30-dollar” strategy*: You wait till the tank is (almost) empty then fill in only 30 dollars worth of gas.\n",
    "\n",
    "Assume that there are many gas stations around, so you can time your visits almost exactly when the tank is empty. Assume also that any inconvenience from visiting the gas station is negligible. Your only objective is to minimize your gas expenditure.\n",
    "\n",
    "***Construct a simulation model in Python to determine if one strategy is more economical than the other (and, if so, by how much).*** "
   ]
  },
  {
   "cell_type": "markdown",
   "metadata": {},
   "source": [
    "----"
   ]
  }
 ],
 "metadata": {
  "colab": {
   "collapsed_sections": [
    "cbEQlIplwY5k",
    "EBUEG5-Cnglm",
    "HBHgRvCEzJAD",
    "IeWbEvilxC5P",
    "Rhly7BwrzPdf",
    "neI3PXRV5Y5f",
    "t5h7PZ-Q6L09",
    "0Nlsk4V16P08",
    "fnWLIf0r_POH",
    "rnvyAlV5_mMz",
    "OQk3oN_T_yl2",
    "2FCZXiuY_uIf",
    "GS1h4S8LvHyJ"
   ],
   "name": "2021_10_01_meeting.ipynb",
   "provenance": []
  },
  "finalized": {
   "timestamp": 1653670308085,
   "trusted": true
  },
  "kernelspec": {
   "display_name": "Python 3 (ipykernel)",
   "language": "python",
   "name": "python3"
  },
  "language_info": {
   "codemirror_mode": {
    "name": "ipython",
    "version": 3
   },
   "file_extension": ".py",
   "mimetype": "text/x-python",
   "name": "python",
   "nbconvert_exporter": "python",
   "pygments_lexer": "ipython3",
   "version": "3.9.12"
  }
 },
 "nbformat": 4,
 "nbformat_minor": 4
}
